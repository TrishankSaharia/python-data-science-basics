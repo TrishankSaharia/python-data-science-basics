{
 "cells": [
  {
   "cell_type": "markdown",
   "id": "c58b74f0",
   "metadata": {},
   "source": [
    "# 🚀 Python Roadmap – Day 2: NumPy & Pandas  \n",
    "**👤 Author:** Trishank Saharia  \n",
    "**📅 Date:** 23rd June 2025  \n",
    "**🎯 Topics Covered:** NumPy arrays, indexing, slicing, array operations, Pandas Series & DataFrame\n",
    "\n"
   ]
  },
  {
   "cell_type": "markdown",
   "id": "c81f7b81",
   "metadata": {},
   "source": [
    "## 📦 NumPy + Pandas — The Foundation of Data Science  \n",
    "\n",
    "NumPy and Pandas form the backbone of all data science and machine learning workflows.\n",
    "\n"
   ]
  },
  {
   "cell_type": "markdown",
   "id": "9cb431b1",
   "metadata": {},
   "source": [
    "## 🧮 NumPy Overview  \n",
    "\n",
    "NumPy is a fast, vectorized library for numerical computation. It supports arrays, operations, broadcasting, and more.\n",
    "\n"
   ]
  },
  {
   "cell_type": "markdown",
   "id": "3ce27dd3",
   "metadata": {},
   "source": [
    "## 🏗️ Array Creation with NumPy  \n",
    "\n",
    "The following code creates 1D and 2D arrays using `np.array()` and prints them.\n"
   ]
  },
  {
   "cell_type": "code",
   "execution_count": 1,
   "id": "d02af9e8",
   "metadata": {},
   "outputs": [
    {
     "name": "stdout",
     "output_type": "stream",
     "text": [
      "[1 2 3 4]\n",
      "[[1 2]\n",
      " [3 4]]\n"
     ]
    }
   ],
   "source": [
    "import numpy as np\n",
    "\n",
    "# Create 1D array\n",
    "a = np.array([1, 2, 3, 4])\n",
    "print(a)\n",
    "\n",
    "\n",
    "# Create 2D array\n",
    "b = np.array([[1, 2], [3, 4]])\n",
    "print(b)\n",
    "\n"
   ]
  },
  {
   "cell_type": "markdown",
   "id": "3f582e7e",
   "metadata": {},
   "source": [
    "## ➕ NumPy Element-wise Operations  \n",
    "\n",
    "Here we perform basic arithmetic operations like addition, multiplication, and division on two NumPy arrays.\n",
    "\n"
   ]
  },
  {
   "cell_type": "code",
   "execution_count": 2,
   "id": "afc9c5b9",
   "metadata": {},
   "outputs": [
    {
     "name": "stdout",
     "output_type": "stream",
     "text": [
      "[11 22 33]\n",
      "[10 40 90]\n",
      "[10. 10. 10.]\n"
     ]
    }
   ],
   "source": [
    "# Array Operations\n",
    "\n",
    "# Element-wise operations\n",
    "x = np.array([10, 20, 30])\n",
    "y = np.array([1, 2, 3])\n",
    "\n",
    "print(x + y)\n",
    "print(x * y)\n",
    "print(x / y)\n"
   ]
  },
  {
   "cell_type": "markdown",
   "id": "63540ece",
   "metadata": {},
   "source": [
    "## 📈 NumPy Array Statistics  \n",
    "\n",
    "This block calculates mean, max, min, and standard deviation of a NumPy array using built-in NumPy functions.\n",
    "\n"
   ]
  },
  {
   "cell_type": "code",
   "execution_count": 3,
   "id": "c6d494b4",
   "metadata": {},
   "outputs": [
    {
     "name": "stdout",
     "output_type": "stream",
     "text": [
      "Mean of Array x is:  20.0\n",
      "Max element of Array x is:  30\n",
      "Min element of Array x is:  10\n",
      "Standard deviation of Array x is:  8.16496580927726\n"
     ]
    }
   ],
   "source": [
    "# NumPy Functions\n",
    "\n",
    "print(\"Mean of Array x is: \", np.mean(x))        # Mean\n",
    "print(\"Max element of Array x is: \",np.max(x))         # Max\n",
    "print(\"Min element of Array x is: \",np.min(x))         # Min\n",
    "print(\"Standard deviation of Array x is: \",np.std(x))         # Standard Deviation\n"
   ]
  },
  {
   "cell_type": "markdown",
   "id": "0a0fbf7e",
   "metadata": {},
   "source": [
    "## 🔍 NumPy Array Indexing and Slicing  \n",
    "\n",
    "This section shows how to slice a 1D array and extract subarrays.\n",
    "\n"
   ]
  },
  {
   "cell_type": "code",
   "execution_count": 4,
   "id": "2267996b",
   "metadata": {},
   "outputs": [
    {
     "name": "stdout",
     "output_type": "stream",
     "text": [
      "[20 30 40]\n",
      "[10 20 30 40 50]\n"
     ]
    }
   ],
   "source": [
    "# Array Indexing and Slicing\n",
    "\n",
    "arr = np.array([10, 20, 30, 40, 50])\n",
    "print(arr[1:4])   # Output: [20 30 40]\n",
    "print(arr[0:len(arr)]) "
   ]
  },
  {
   "cell_type": "markdown",
   "id": "17eb1570",
   "metadata": {},
   "source": [
    "## 📊 Introduction to Pandas  \n",
    "\n",
    "Pandas is used for data analysis using Series (1D) and DataFrames (2D). It offers fast data manipulation tools.\n"
   ]
  },
  {
   "cell_type": "markdown",
   "id": "4a95b99f",
   "metadata": {},
   "source": [
    "# Pandas (Data Analysis Library)\n",
    "\n",
    " * Easier to work with tables of data (like Excel/CSV)\n",
    " * Lets you load, filter, sort, group, analyze easily\n",
    "\n"
   ]
  },
  {
   "cell_type": "markdown",
   "id": "1303be9c",
   "metadata": {},
   "source": [
    "## 📁 Reading a CSV File with Pandas  \n",
    "\n",
    "This block shows how to load a CSV file using `pd.read_csv()` and inspect the dataset using `head()` and `describe()`.\n",
    "We load student data from a remote GitHub-hosted CSV file and display the top few rows.\n"
   ]
  },
  {
   "cell_type": "code",
   "execution_count": 5,
   "id": "1648c95b",
   "metadata": {},
   "outputs": [
    {
     "name": "stdout",
     "output_type": "stream",
     "text": [
      "      Name  Age  Gender  Marks       City\n",
      "0    Alice   22  Female     85      Delhi\n",
      "1      Bob   25    Male     78     Mumbai\n",
      "2  Charlie   24    Male     92  Bangalore\n",
      "3    Diana   23  Female     88    Chennai\n",
      "4    Ethan   26    Male     74    Kolkata\n"
     ]
    }
   ],
   "source": [
    "# Import and Load Data\n",
    "\n",
    "import pandas as pd\n",
    "\n",
    "url = \"https://raw.githubusercontent.com/TrishankSaharia/python-data-science-basics/main/datasets/student_data.csv\"\n",
    "df = pd.read_csv(url) # Load CSV file\n",
    "print(df.head()) # View top rows\n"
   ]
  },
  {
   "cell_type": "markdown",
   "id": "6361b0e1",
   "metadata": {},
   "source": [
    "\n",
    "## 📋 Creating a DataFrame in Pandas  \n",
    "\n",
    "\n",
    "We create a simple DataFrame using a dictionary and perform operations like describing data and selecting columns.\n",
    "\n",
    "## 📋 Manual DataFrame Creation  \n",
    "\n",
    "This block creates a Pandas DataFrame using a dictionary with name, age, and city information.\n"
   ]
  },
  {
   "cell_type": "code",
   "execution_count": 6,
   "id": "e585ca49",
   "metadata": {},
   "outputs": [
    {
     "name": "stdout",
     "output_type": "stream",
     "text": [
      "      Name  Age       City\n",
      "0    Alice   25      Delhi\n",
      "1      Bob   30     Mumbai\n",
      "2  Charlie   35  Bangalore\n"
     ]
    }
   ],
   "source": [
    "# Create DataFrame Manually\n",
    "\n",
    "data = {\n",
    "    'Name': ['Alice', 'Bob', 'Charlie'],\n",
    "    'Age': [25, 30, 35],\n",
    "    'City': ['Delhi', 'Mumbai', 'Bangalore']\n",
    "}\n",
    "\n",
    "df = pd.DataFrame(data)\n",
    "print(df)\n"
   ]
  },
  {
   "cell_type": "markdown",
   "id": "4716f731",
   "metadata": {},
   "source": [
    "## 📊 DataFrame Operations  \n",
    "\n",
    "Access columns, calculate mean, filter rows based on conditions, and sort the data.\n"
   ]
  },
  {
   "cell_type": "code",
   "execution_count": 7,
   "id": "af275dcb",
   "metadata": {},
   "outputs": [
    {
     "name": "stdout",
     "output_type": "stream",
     "text": [
      "0    25\n",
      "1    30\n",
      "2    35\n",
      "Name: Age, dtype: int64 \n",
      "\n",
      "Mean age is 30.0 \n",
      "\n",
      "Details of students with age greater than 28 \n",
      "       Name  Age       City\n",
      "1      Bob   30     Mumbai\n",
      "2  Charlie   35  Bangalore \n",
      "\n",
      "Dataframe sorted by age is: \n",
      "       Name  Age       City\n",
      "0    Alice   25      Delhi\n",
      "1      Bob   30     Mumbai\n",
      "2  Charlie   35  Bangalore\n"
     ]
    }
   ],
   "source": [
    "# DataFrame Operations\n",
    "\n",
    "print(df['Age'],\"\\n\")                  # Access column\n",
    "print(\"Mean age is\",df['Age'].mean(),\"\\n\")          # Mean of Age column\n",
    "print(\"Details of students with age greater than 28 \\n\",df[df['Age'] > 28],\"\\n\")        # Filter rows\n",
    "print(\"Dataframe sorted by age is: \\n\",df.sort_values('Age'))     # Sort by Age\n"
   ]
  },
  {
   "cell_type": "markdown",
   "id": "3aedfe11",
   "metadata": {},
   "source": [
    "## 💾 Exporting DataFrame to CSV  \n",
    "\n",
    "We export the DataFrame to a CSV file using `to_csv()` without including the index.\n"
   ]
  },
  {
   "cell_type": "code",
   "execution_count": 8,
   "id": "e4b6508a",
   "metadata": {},
   "outputs": [],
   "source": [
    "df.to_csv(\"output.csv\", index=False)\n"
   ]
  },
  {
   "cell_type": "markdown",
   "id": "169b1580",
   "metadata": {},
   "source": [
    "## 🎯 Task 1: Create a NumPy Array  \n",
    "\n",
    "This task creates a NumPy array of 10 elements and prints it.\n"
   ]
  },
  {
   "cell_type": "code",
   "execution_count": 9,
   "id": "7051148d",
   "metadata": {},
   "outputs": [
    {
     "name": "stdout",
     "output_type": "stream",
     "text": [
      "[ 10  20  30  40  50  60  70  80  90 100]\n"
     ]
    }
   ],
   "source": [
    "import numpy as np\n",
    "x=np.array([10,20,30,40,50,60,70,80,90,100])\n",
    "print(x)\n"
   ]
  },
  {
   "cell_type": "markdown",
   "id": "e449d73b",
   "metadata": {},
   "source": [
    "## 📊 Task 2: NumPy Array Statistics  \n",
    "\n",
    "This block calculates statistical metrics such as mean, median, max, min, and std deviation.\n",
    "\n"
   ]
  },
  {
   "cell_type": "code",
   "execution_count": 10,
   "id": "cbb67056",
   "metadata": {},
   "outputs": [
    {
     "name": "stdout",
     "output_type": "stream",
     "text": [
      "Mean of x is:  55.0\n",
      "Median of x is:  55.0\n",
      "Max in x is:  100\n",
      "Min in x is:  10\n",
      "Standard deviation of x is:  28.722813232690143\n"
     ]
    }
   ],
   "source": [
    "print(\"Mean of x is: \",np.mean(x))\n",
    "print(\"Median of x is: \",np.median(x))\n",
    "print(\"Max in x is: \",np.max(x))\n",
    "print(\"Min in x is: \",np.min(x))\n",
    "print(\"Standard deviation of x is: \",np.std(x))"
   ]
  },
  {
   "cell_type": "markdown",
   "id": "e862b438",
   "metadata": {},
   "source": [
    "## 🔁 Task 3: Element-wise Operations on Arrays  \n",
    "\n",
    "Adds and multiplies two NumPy arrays element-wise.\n"
   ]
  },
  {
   "cell_type": "code",
   "execution_count": 11,
   "id": "00aa3798",
   "metadata": {},
   "outputs": [
    {
     "name": "stdout",
     "output_type": "stream",
     "text": [
      "Array x is:  [ 10  20  30  40  50  60  70  80  90 100] \n",
      "Array y is:  [100  90  80  70  60  50  40  30  20  10] \n",
      "\n",
      "Element wise addition of arrays x and y is:\n",
      " [110 110 110 110 110 110 110 110 110 110] \n",
      "\n",
      "Element wise multiplication of arrays x and y is:\n",
      " [1000 1800 2400 2800 3000 3000 2800 2400 1800 1000]\n"
     ]
    }
   ],
   "source": [
    "y=np.array([100,90,80,70,60,50,40,30,20,10])\n",
    "print(\"Array x is: \",x,\"\\nArray y is: \",y,\"\\n\")\n",
    "print(\"Element wise addition of arrays x and y is:\\n\",x+y,\"\\n\")\n",
    "print(\"Element wise multiplication of arrays x and y is:\\n\",x*y)"
   ]
  },
  {
   "cell_type": "markdown",
   "id": "0a1f600a",
   "metadata": {},
   "source": [
    "## ✂️ Task 4: Slice a NumPy Array  \n",
    "\n",
    "Takes user input for index range and slices the array accordingly.\n"
   ]
  },
  {
   "cell_type": "code",
   "execution_count": 12,
   "id": "d93f1c9a",
   "metadata": {},
   "outputs": [
    {
     "name": "stdout",
     "output_type": "stream",
     "text": [
      "Enter lower index: 3\n",
      "Enter upper index: 8\n",
      "Sliced Array from array x from index 3 to index 8 is:  [40 50 60 70 80 90]\n"
     ]
    }
   ],
   "source": [
    "# Task 4: Slice elements from index n to m\n",
    "\n",
    "n=int(input(\"Enter lower index: \"))\n",
    "m=int(input(\"Enter upper index: \"))\n",
    "print(f\"Sliced Array from array x from index {n} to index {m} is: \",x[n:m+1])\n"
   ]
  },
  {
   "cell_type": "markdown",
   "id": "7fd6802b",
   "metadata": {},
   "source": [
    "## 📥 Task 5: Load Student Data from CSV  \n",
    "\n",
    "Reloads student data and displays the top 'n' and bottom 'm' rows.\n",
    "\n",
    "\n"
   ]
  },
  {
   "cell_type": "code",
   "execution_count": 13,
   "id": "03b04f75",
   "metadata": {},
   "outputs": [
    {
     "name": "stdout",
     "output_type": "stream",
     "text": [
      "      Name  Age  Gender  Marks       City\n",
      "0    Alice   22  Female     85      Delhi\n",
      "1      Bob   25    Male     78     Mumbai\n",
      "2  Charlie   24    Male     92  Bangalore\n",
      "3    Diana   23  Female     88    Chennai\n",
      "4    Ethan   26    Male     74    Kolkata \n",
      "\n",
      "Enter the number of rows from the top: 2\n",
      "Enter the number of rows from the bottom: 3\n",
      "\n",
      "First 2 rows in my dataset are: \n",
      "\n",
      "     Name  Age  Gender  Marks    City\n",
      "0  Alice   22  Female     85   Delhi\n",
      "1    Bob   25    Male     78  Mumbai\n",
      "\n",
      "Last 3 rows in my dataset are: \n",
      "\n",
      "       Name  Age  Gender  Marks       City\n",
      "2  Charlie   24    Male     92  Bangalore\n",
      "3    Diana   23  Female     88    Chennai\n",
      "4    Ethan   26    Male     74    Kolkata\n"
     ]
    }
   ],
   "source": [
    "# Pandas Tasks (using my dataset)\n",
    "\n",
    "import pandas as pd\n",
    "\n",
    "url = \"https://raw.githubusercontent.com/TrishankSaharia/python-data-science-basics/main/datasets/student_data.csv\"\n",
    "df = pd.read_csv(url) # Load CSV file\n",
    "print(df.head(),\"\\n\") # View top rows\n",
    "\n",
    "# Task 5: Showing first n rows and last m rows from my dataset\n",
    "\n",
    "n=int(input(\"Enter the number of rows from the top: \"))\n",
    "m=int(input(\"Enter the number of rows from the bottom: \"))\n",
    "\n",
    "print(f\"\\nFirst {n} rows in my dataset are: \\n\\n\",df.head(n))\n",
    "print(f\"\\nLast {m} rows in my dataset are: \\n\\n\",df.tail(m))\n",
    "\n",
    "\n"
   ]
  },
  {
   "cell_type": "markdown",
   "id": "43ca53bc",
   "metadata": {},
   "source": [
    "## 🔍 Task 6: Filter Students by Marks  \n",
    "\n",
    "Filters and displays students who scored above the user-defined threshold.\n"
   ]
  },
  {
   "cell_type": "code",
   "execution_count": 14,
   "id": "3a60e93e",
   "metadata": {},
   "outputs": [
    {
     "name": "stdout",
     "output_type": "stream",
     "text": [
      "Enter marks above which you want the dataset entries: 80\n",
      "\n",
      "       Name  Age  Gender  Marks       City\n",
      "0    Alice   22  Female     85      Delhi\n",
      "2  Charlie   24    Male     92  Bangalore\n",
      "3    Diana   23  Female     88    Chennai\n"
     ]
    }
   ],
   "source": [
    "# Task 6: Filter rows where Marks > m\n",
    "\n",
    "m=int(input(\"Enter marks above which you want the dataset entries: \"))\n",
    "filtered_df = df[df['Marks']>m]\n",
    "print(\"\\n\",filtered_df)\n"
   ]
  },
  {
   "cell_type": "markdown",
   "id": "0b937487",
   "metadata": {},
   "source": [
    "## 📊 Task 7: Sorting Data  \n",
    "\n",
    "Sorts the dataset by Age and then by Marks using `sort_values()`.\n"
   ]
  },
  {
   "cell_type": "code",
   "execution_count": 15,
   "id": "28af14c3",
   "metadata": {},
   "outputs": [
    {
     "name": "stdout",
     "output_type": "stream",
     "text": [
      "Data sorted by Age       Name  Age  Gender  Marks       City\n",
      "0    Alice   22  Female     85      Delhi\n",
      "3    Diana   23  Female     88    Chennai\n",
      "2  Charlie   24    Male     92  Bangalore\n",
      "1      Bob   25    Male     78     Mumbai\n",
      "4    Ethan   26    Male     74    Kolkata\n",
      "\n",
      "Data sorted by Age       Name  Age  Gender  Marks       City\n",
      "4    Ethan   26    Male     74    Kolkata\n",
      "1      Bob   25    Male     78     Mumbai\n",
      "0    Alice   22  Female     85      Delhi\n",
      "3    Diana   23  Female     88    Chennai\n",
      "2  Charlie   24    Male     92  Bangalore\n"
     ]
    }
   ],
   "source": [
    "# Task 7: Sort by Age and Sort by marks\n",
    "\n",
    "sorted_df1 = df.sort_values(by='Age')\n",
    "print(\"Data sorted by Age\",sorted_df1)\n",
    "\n",
    "sorted_df2 = df.sort_values(by='Marks')\n",
    "print(\"\\nData sorted by Age\",sorted_df2)\n"
   ]
  },
  {
   "cell_type": "markdown",
   "id": "54aec8e1",
   "metadata": {},
   "source": [
    "## 🏷️ Task 8: Add Grade Column Based on Marks  \n",
    "\n",
    "Adds a new column 'Grade' to the DataFrame using a custom function.\n"
   ]
  },
  {
   "cell_type": "code",
   "execution_count": 16,
   "id": "8fbca6dd",
   "metadata": {},
   "outputs": [
    {
     "data": {
      "text/html": [
       "<div>\n",
       "<style scoped>\n",
       "    .dataframe tbody tr th:only-of-type {\n",
       "        vertical-align: middle;\n",
       "    }\n",
       "\n",
       "    .dataframe tbody tr th {\n",
       "        vertical-align: top;\n",
       "    }\n",
       "\n",
       "    .dataframe thead th {\n",
       "        text-align: right;\n",
       "    }\n",
       "</style>\n",
       "<table border=\"1\" class=\"dataframe\">\n",
       "  <thead>\n",
       "    <tr style=\"text-align: right;\">\n",
       "      <th></th>\n",
       "      <th>Name</th>\n",
       "      <th>Age</th>\n",
       "      <th>Gender</th>\n",
       "      <th>Marks</th>\n",
       "      <th>City</th>\n",
       "      <th>Grade</th>\n",
       "    </tr>\n",
       "  </thead>\n",
       "  <tbody>\n",
       "    <tr>\n",
       "      <th>0</th>\n",
       "      <td>Alice</td>\n",
       "      <td>22</td>\n",
       "      <td>Female</td>\n",
       "      <td>85</td>\n",
       "      <td>Delhi</td>\n",
       "      <td>A</td>\n",
       "    </tr>\n",
       "    <tr>\n",
       "      <th>1</th>\n",
       "      <td>Bob</td>\n",
       "      <td>25</td>\n",
       "      <td>Male</td>\n",
       "      <td>78</td>\n",
       "      <td>Mumbai</td>\n",
       "      <td>B</td>\n",
       "    </tr>\n",
       "    <tr>\n",
       "      <th>2</th>\n",
       "      <td>Charlie</td>\n",
       "      <td>24</td>\n",
       "      <td>Male</td>\n",
       "      <td>92</td>\n",
       "      <td>Bangalore</td>\n",
       "      <td>A+</td>\n",
       "    </tr>\n",
       "    <tr>\n",
       "      <th>3</th>\n",
       "      <td>Diana</td>\n",
       "      <td>23</td>\n",
       "      <td>Female</td>\n",
       "      <td>88</td>\n",
       "      <td>Chennai</td>\n",
       "      <td>A</td>\n",
       "    </tr>\n",
       "    <tr>\n",
       "      <th>4</th>\n",
       "      <td>Ethan</td>\n",
       "      <td>26</td>\n",
       "      <td>Male</td>\n",
       "      <td>74</td>\n",
       "      <td>Kolkata</td>\n",
       "      <td>B</td>\n",
       "    </tr>\n",
       "  </tbody>\n",
       "</table>\n",
       "</div>"
      ],
      "text/plain": [
       "      Name  Age  Gender  Marks       City Grade\n",
       "0    Alice   22  Female     85      Delhi     A\n",
       "1      Bob   25    Male     78     Mumbai     B\n",
       "2  Charlie   24    Male     92  Bangalore    A+\n",
       "3    Diana   23  Female     88    Chennai     A\n",
       "4    Ethan   26    Male     74    Kolkata     B"
      ]
     },
     "execution_count": 16,
     "metadata": {},
     "output_type": "execute_result"
    }
   ],
   "source": [
    "# Task 8: Add a new column “Grade” based on Marks\n",
    "\n",
    "def get_grade(marks):\n",
    "# This creates a Python function named get_grade that takes in a single number (marks).\n",
    "    if marks >= 90:\n",
    "        return 'A+'\n",
    "    elif marks >= 80:\n",
    "        return 'A'\n",
    "    elif marks >= 70:\n",
    "        return 'B'\n",
    "    else:\n",
    "        return 'C'\n",
    "\n",
    "# Apply This Function to Every Row in the 'Marks' Column\n",
    "\n",
    "df['Grade'] = df['Marks'].apply(get_grade)\n",
    "\n",
    "\n",
    "# df['Marks'] extracts the Marks column as a Series\n",
    "# .apply(get_grade) applies your custom get_grade function to each mark\n",
    "# The result is a new column Grade added to the dataframe\n",
    "\n",
    "df"
   ]
  },
  {
   "cell_type": "markdown",
   "id": "391cc8f3",
   "metadata": {},
   "source": [
    "## 💾 Task 9: Save Final DataFrame  \n",
    "\n",
    "Exports the final DataFrame (with Grade) to a CSV file.\n"
   ]
  },
  {
   "cell_type": "code",
   "execution_count": 17,
   "id": "d5890079",
   "metadata": {},
   "outputs": [
    {
     "name": "stdout",
     "output_type": "stream",
     "text": [
      "Saved to final_processed_student_data.csv\n"
     ]
    }
   ],
   "source": [
    "# Task 9: Export the updated dataframe to a new CSV\n",
    "\n",
    "df.to_csv(\"final_processed_student_data.csv\", index=False)\n",
    "print(\"Saved to final_processed_student_data.csv\")"
   ]
  },
  {
   "cell_type": "markdown",
   "id": "7b303035",
   "metadata": {},
   "source": [
    "## 🧾 Task 10: Show Column Names and Data Types  \n",
    "\n",
    "Displays all column names and their respective data types.\n"
   ]
  },
  {
   "cell_type": "code",
   "execution_count": 18,
   "id": "16fcc74d",
   "metadata": {},
   "outputs": [
    {
     "name": "stdout",
     "output_type": "stream",
     "text": [
      "Index(['Name', 'Age', 'Gender', 'Marks', 'City', 'Grade'], dtype='object')\n",
      "Name      object\n",
      "Age        int64\n",
      "Gender    object\n",
      "Marks      int64\n",
      "City      object\n",
      "Grade     object\n",
      "dtype: object\n"
     ]
    }
   ],
   "source": [
    "print(df.columns)\n",
    "print(df.dtypes)"
   ]
  },
  {
   "cell_type": "markdown",
   "id": "b5555149",
   "metadata": {},
   "source": [
    "## 📈 Simple Data Visualization  \n",
    "\n",
    "Here we visualize the distribution of a numeric column using a bar plot.\n",
    "\n",
    "## 📈 Plot Value Counts of Marks  \n",
    "\n",
    "Creates a bar plot showing how frequently each marks value occurs.\n",
    "\n"
   ]
  },
  {
   "cell_type": "code",
   "execution_count": 19,
   "id": "18f1db7b",
   "metadata": {},
   "outputs": [
    {
     "data": {
      "image/png": "[encoded data removed]",
      "text/plain": [
       "<Figure size 432x288 with 1 Axes>"
      ]
     },
     "metadata": {
      "needs_background": "light"
     },
     "output_type": "display_data"
    }
   ],
   "source": [
    "import matplotlib.pyplot as plt\n",
    "\n",
    "# 'Marks is a numeric column'\n",
    "df['Marks'].value_counts().plot(kind='bar')\n",
    "plt.title('MARKS')\n",
    "plt.xlabel('Values')\n",
    "plt.ylabel('Frequency')\n",
    "plt.show()\n"
   ]
  },
  {
   "cell_type": "code",
   "execution_count": null,
   "id": "c28bc225",
   "metadata": {},
   "outputs": [],
   "source": []
  }
 ],
 "metadata": {
  "kernelspec": {
   "display_name": "Python 3",
   "language": "python",
   "name": "python3"
  },
  "language_info": {
   "codemirror_mode": {
    "name": "ipython",
    "version": 3
   },
   "file_extension": ".py",
   "mimetype": "text/x-python",
   "name": "python",
   "nbconvert_exporter": "python",
   "pygments_lexer": "ipython3",
   "version": "3.8.8"
  }
 },
 "nbformat": 4,
 "nbformat_minor": 5
}
