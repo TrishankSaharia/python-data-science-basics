{
 "cells": [
  {
   "cell_type": "code",
   "execution_count": 1,
   "id": "139bd83c",
   "metadata": {},
   "outputs": [],
   "source": [
    "# NUMPY + PANDAS — THE FOUNDATION OF DATA SCIENCE"
   ]
  },
  {
   "cell_type": "code",
   "execution_count": 2,
   "id": "f2154f48",
   "metadata": {},
   "outputs": [],
   "source": [
    "# NumPy (Numerical Python)\n",
    "# Why Use NumPy?\n",
    " # Faster than Python lists\n",
    " # Useful for mathematical operations\n",
    " # Basis for all ML/AI libraries (e.g., TensorFlow, PyTorch)\n",
    "\n"
   ]
  },
  {
   "cell_type": "code",
   "execution_count": 5,
   "id": "d02af9e8",
   "metadata": {},
   "outputs": [
    {
     "name": "stdout",
     "output_type": "stream",
     "text": [
      "[1 2 3 4]\n",
      "[[1 2]\n",
      " [3 4]]\n"
     ]
    }
   ],
   "source": [
    "# Import and Array Creation\n",
    "\n",
    "import numpy as np\n",
    "\n",
    "# Create 1D array\n",
    "a = np.array([1, 2, 3, 4])\n",
    "print(a)\n",
    "\n",
    "\n",
    "# Create 2D array\n",
    "b = np.array([[1, 2], [3, 4]])\n",
    "print(b)\n",
    "\n"
   ]
  },
  {
   "cell_type": "code",
   "execution_count": 6,
   "id": "afc9c5b9",
   "metadata": {},
   "outputs": [
    {
     "name": "stdout",
     "output_type": "stream",
     "text": [
      "[11 22 33]\n",
      "[10 40 90]\n",
      "[10. 10. 10.]\n"
     ]
    }
   ],
   "source": [
    "# Array Operations\n",
    "\n",
    "# Element-wise operations\n",
    "x = np.array([10, 20, 30])\n",
    "y = np.array([1, 2, 3])\n",
    "\n",
    "print(x + y)\n",
    "print(x * y)\n",
    "print(x / y)\n"
   ]
  },
  {
   "cell_type": "code",
   "execution_count": 9,
   "id": "c6d494b4",
   "metadata": {},
   "outputs": [
    {
     "name": "stdout",
     "output_type": "stream",
     "text": [
      "Mean of Array x is:  20.0\n",
      "Max element of Array x is:  30\n",
      "Min element of Array x is:  10\n",
      "Standard deviation of Array x is:  8.16496580927726\n"
     ]
    }
   ],
   "source": [
    "# NumPy Functions\n",
    "\n",
    "print(\"Mean of Array x is: \", np.mean(x))        # Mean\n",
    "print(\"Max element of Array x is: \",np.max(x))         # Max\n",
    "print(\"Min element of Array x is: \",np.min(x))         # Min\n",
    "print(\"Standard deviation of Array x is: \",np.std(x))         # Standard Deviation\n"
   ]
  },
  {
   "cell_type": "code",
   "execution_count": 15,
   "id": "2267996b",
   "metadata": {},
   "outputs": [
    {
     "name": "stdout",
     "output_type": "stream",
     "text": [
      "[20 30 40]\n",
      "[10 20 30 40 50]\n"
     ]
    }
   ],
   "source": [
    "# Array Indexing and Slicing\n",
    "\n",
    "arr = np.array([10, 20, 30, 40, 50])\n",
    "print(arr[1:4])   # Output: [20 30 40]\n",
    "print(arr[0:len(arr)]) "
   ]
  },
  {
   "cell_type": "code",
   "execution_count": 16,
   "id": "6f2d6c78",
   "metadata": {},
   "outputs": [],
   "source": [
    "# Pandas (Data Analysis Library)\n",
    "# Why Use Pandas?\n",
    " # Easier to work with tables of data (like Excel/CSV)\n",
    " # Lets you load, filter, sort, group, analyze easily\n",
    "\n"
   ]
  },
  {
   "cell_type": "code",
   "execution_count": null,
   "id": "1648c95b",
   "metadata": {},
   "outputs": [],
   "source": []
  },
  {
   "cell_type": "code",
   "execution_count": null,
   "id": "e585ca49",
   "metadata": {},
   "outputs": [],
   "source": []
  }
 ],
 "metadata": {
  "kernelspec": {
   "display_name": "Python 3",
   "language": "python",
   "name": "python3"
  },
  "language_info": {
   "codemirror_mode": {
    "name": "ipython",
    "version": 3
   },
   "file_extension": ".py",
   "mimetype": "text/x-python",
   "name": "python",
   "nbconvert_exporter": "python",
   "pygments_lexer": "ipython3",
   "version": "3.8.8"
  }
 },
 "nbformat": 4,
 "nbformat_minor": 5
}
