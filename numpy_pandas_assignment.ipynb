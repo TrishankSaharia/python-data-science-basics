{
 "cells": [
  {
   "cell_type": "code",
   "execution_count": 1,
   "id": "139bd83c",
   "metadata": {},
   "outputs": [],
   "source": [
    "# NUMPY + PANDAS — THE FOUNDATION OF DATA SCIENCE"
   ]
  },
  {
   "cell_type": "code",
   "execution_count": 2,
   "id": "f2154f48",
   "metadata": {},
   "outputs": [],
   "source": [
    "# NumPy (Numerical Python)\n",
    "# Why Use NumPy?\n",
    " # Faster than Python lists\n",
    " # Useful for mathematical operations\n",
    " # Basis for all ML/AI libraries (e.g., TensorFlow, PyTorch)\n",
    "\n"
   ]
  },
  {
   "cell_type": "code",
   "execution_count": 3,
   "id": "d02af9e8",
   "metadata": {},
   "outputs": [
    {
     "name": "stdout",
     "output_type": "stream",
     "text": [
      "[1 2 3 4]\n",
      "[[1 2]\n",
      " [3 4]]\n"
     ]
    }
   ],
   "source": [
    "# Import and Array Creation\n",
    "\n",
    "import numpy as np\n",
    "\n",
    "# Create 1D array\n",
    "a = np.array([1, 2, 3, 4])\n",
    "print(a)\n",
    "\n",
    "\n",
    "# Create 2D array\n",
    "b = np.array([[1, 2], [3, 4]])\n",
    "print(b)\n",
    "\n"
   ]
  },
  {
   "cell_type": "code",
   "execution_count": 4,
   "id": "afc9c5b9",
   "metadata": {},
   "outputs": [
    {
     "name": "stdout",
     "output_type": "stream",
     "text": [
      "[11 22 33]\n",
      "[10 40 90]\n",
      "[10. 10. 10.]\n"
     ]
    }
   ],
   "source": [
    "# Array Operations\n",
    "\n",
    "# Element-wise operations\n",
    "x = np.array([10, 20, 30])\n",
    "y = np.array([1, 2, 3])\n",
    "\n",
    "print(x + y)\n",
    "print(x * y)\n",
    "print(x / y)\n"
   ]
  },
  {
   "cell_type": "code",
   "execution_count": 5,
   "id": "c6d494b4",
   "metadata": {},
   "outputs": [
    {
     "name": "stdout",
     "output_type": "stream",
     "text": [
      "Mean of Array x is:  20.0\n",
      "Max element of Array x is:  30\n",
      "Min element of Array x is:  10\n",
      "Standard deviation of Array x is:  8.16496580927726\n"
     ]
    }
   ],
   "source": [
    "# NumPy Functions\n",
    "\n",
    "print(\"Mean of Array x is: \", np.mean(x))        # Mean\n",
    "print(\"Max element of Array x is: \",np.max(x))         # Max\n",
    "print(\"Min element of Array x is: \",np.min(x))         # Min\n",
    "print(\"Standard deviation of Array x is: \",np.std(x))         # Standard Deviation\n"
   ]
  },
  {
   "cell_type": "code",
   "execution_count": 6,
   "id": "2267996b",
   "metadata": {},
   "outputs": [
    {
     "name": "stdout",
     "output_type": "stream",
     "text": [
      "[20 30 40]\n",
      "[10 20 30 40 50]\n"
     ]
    }
   ],
   "source": [
    "# Array Indexing and Slicing\n",
    "\n",
    "arr = np.array([10, 20, 30, 40, 50])\n",
    "print(arr[1:4])   # Output: [20 30 40]\n",
    "print(arr[0:len(arr)]) "
   ]
  },
  {
   "cell_type": "code",
   "execution_count": 7,
   "id": "6f2d6c78",
   "metadata": {},
   "outputs": [],
   "source": [
    "# Pandas (Data Analysis Library)\n",
    "# Why Use Pandas?\n",
    " # Easier to work with tables of data (like Excel/CSV)\n",
    " # Lets you load, filter, sort, group, analyze easily\n",
    "\n"
   ]
  },
  {
   "cell_type": "code",
   "execution_count": 8,
   "id": "1648c95b",
   "metadata": {},
   "outputs": [
    {
     "name": "stdout",
     "output_type": "stream",
     "text": [
      "      Name  Age  Gender  Marks       City\n",
      "0    Alice   22  Female     85      Delhi\n",
      "1      Bob   25    Male     78     Mumbai\n",
      "2  Charlie   24    Male     92  Bangalore\n",
      "3    Diana   23  Female     88    Chennai\n",
      "4    Ethan   26    Male     74    Kolkata\n"
     ]
    }
   ],
   "source": [
    "# Import and Load Data\n",
    "\n",
    "import pandas as pd\n",
    "\n",
    "url = \"https://raw.githubusercontent.com/TrishankSaharia/python-data-science-basics/main/datasets/student_data.csv\"\n",
    "df = pd.read_csv(url) # Load CSV file\n",
    "print(df.head()) # View top rows\n"
   ]
  },
  {
   "cell_type": "code",
   "execution_count": 9,
   "id": "e585ca49",
   "metadata": {},
   "outputs": [
    {
     "name": "stdout",
     "output_type": "stream",
     "text": [
      "      Name  Age       City\n",
      "0    Alice   25      Delhi\n",
      "1      Bob   30     Mumbai\n",
      "2  Charlie   35  Bangalore\n"
     ]
    }
   ],
   "source": [
    "# Create DataFrame Manually\n",
    "\n",
    "data = {\n",
    "    'Name': ['Alice', 'Bob', 'Charlie'],\n",
    "    'Age': [25, 30, 35],\n",
    "    'City': ['Delhi', 'Mumbai', 'Bangalore']\n",
    "}\n",
    "\n",
    "df = pd.DataFrame(data)\n",
    "print(df)\n"
   ]
  },
  {
   "cell_type": "code",
   "execution_count": 10,
   "id": "af275dcb",
   "metadata": {},
   "outputs": [
    {
     "name": "stdout",
     "output_type": "stream",
     "text": [
      "0    25\n",
      "1    30\n",
      "2    35\n",
      "Name: Age, dtype: int64 \n",
      "\n",
      "Mean age is 30.0 \n",
      "\n",
      "Details of students with age greater than 28 \n",
      "       Name  Age       City\n",
      "1      Bob   30     Mumbai\n",
      "2  Charlie   35  Bangalore \n",
      "\n",
      "Dataframe sorted by age is: \n",
      "       Name  Age       City\n",
      "0    Alice   25      Delhi\n",
      "1      Bob   30     Mumbai\n",
      "2  Charlie   35  Bangalore\n"
     ]
    }
   ],
   "source": [
    "# DataFrame Operations\n",
    "\n",
    "print(df['Age'],\"\\n\")                  # Access column\n",
    "print(\"Mean age is\",df['Age'].mean(),\"\\n\")          # Mean of Age column\n",
    "print(\"Details of students with age greater than 28 \\n\",df[df['Age'] > 28],\"\\n\")        # Filter rows\n",
    "print(\"Dataframe sorted by age is: \\n\",df.sort_values('Age'))     # Sort by Age\n"
   ]
  },
  {
   "cell_type": "code",
   "execution_count": 11,
   "id": "e4b6508a",
   "metadata": {},
   "outputs": [],
   "source": [
    "df.to_csv(\"output.csv\", index=False)\n"
   ]
  },
  {
   "cell_type": "code",
   "execution_count": 12,
   "id": "7051148d",
   "metadata": {},
   "outputs": [
    {
     "name": "stdout",
     "output_type": "stream",
     "text": [
      "[ 10  20  30  40  50  60  70  80  90 100]\n"
     ]
    }
   ],
   "source": [
    "# Task 1: Create a NumPy array with 10 elements\n",
    "\n",
    "import numpy as np\n",
    "x=np.array([10,20,30,40,50,60,70,80,90,100])\n",
    "print(x)\n"
   ]
  },
  {
   "cell_type": "code",
   "execution_count": 13,
   "id": "cbb67056",
   "metadata": {},
   "outputs": [
    {
     "name": "stdout",
     "output_type": "stream",
     "text": [
      "Mean of x is:  55.0\n",
      "Median of x is:  55.0\n",
      "Max in x is:  100\n",
      "Min in x is:  10\n",
      "Standard deviation of x is:  28.722813232690143\n"
     ]
    }
   ],
   "source": [
    "# Task 2: Find mean, median, max, min, and standard deviation\n",
    "\n",
    "print(\"Mean of x is: \",np.mean(x))\n",
    "print(\"Median of x is: \",np.median(x))\n",
    "print(\"Max in x is: \",np.max(x))\n",
    "print(\"Min in x is: \",np.min(x))\n",
    "print(\"Standard deviation of x is: \",np.std(x))"
   ]
  },
  {
   "cell_type": "code",
   "execution_count": 14,
   "id": "00aa3798",
   "metadata": {},
   "outputs": [
    {
     "name": "stdout",
     "output_type": "stream",
     "text": [
      "Array x is:  [ 10  20  30  40  50  60  70  80  90 100] \n",
      "Array y is:  [100  90  80  70  60  50  40  30  20  10] \n",
      "\n",
      "Element wise addition of arrays x and y is:\n",
      " [110 110 110 110 110 110 110 110 110 110] \n",
      "\n",
      "Element wise multiplication of arrays x and y is:\n",
      " [1000 1800 2400 2800 3000 3000 2800 2400 1800 1000]\n"
     ]
    }
   ],
   "source": [
    "# Task 3: Element-wise addition and multiplication with another array\n",
    "\n",
    "y=np.array([100,90,80,70,60,50,40,30,20,10])\n",
    "print(\"Array x is: \",x,\"\\nArray y is: \",y,\"\\n\")\n",
    "print(\"Element wise addition of arrays x and y is:\\n\",x+y,\"\\n\")\n",
    "print(\"Element wise multiplication of arrays x and y is:\\n\",x*y)"
   ]
  },
  {
   "cell_type": "code",
   "execution_count": 16,
   "id": "d93f1c9a",
   "metadata": {},
   "outputs": [
    {
     "name": "stdout",
     "output_type": "stream",
     "text": [
      "Enter lower index: 3\n",
      "Enter upper index: 5\n",
      "Sliced Array from array x from index 3 to index 5 is:  [40 50 60]\n"
     ]
    }
   ],
   "source": [
    "# Task 4: Slice elements from index n to m\n",
    "\n",
    "n=int(input(\"Enter lower index: \"))\n",
    "m=int(input(\"Enter upper index: \"))\n",
    "print(f\"Sliced Array from array x from index {n} to index {m} is: \",x[n:m+1])\n"
   ]
  },
  {
   "cell_type": "code",
   "execution_count": 18,
   "id": "03b04f75",
   "metadata": {},
   "outputs": [
    {
     "name": "stdout",
     "output_type": "stream",
     "text": [
      "      Name  Age  Gender  Marks       City\n",
      "0    Alice   22  Female     85      Delhi\n",
      "1      Bob   25    Male     78     Mumbai\n",
      "2  Charlie   24    Male     92  Bangalore\n",
      "3    Diana   23  Female     88    Chennai\n",
      "4    Ethan   26    Male     74    Kolkata \n",
      "\n",
      "Enter the number of rows from the top: 3\n",
      "Enter the number of rows from the bottom: 2\n",
      "\n",
      "First 3 rows in my dataset are: \n",
      "\n",
      "       Name  Age  Gender  Marks       City\n",
      "0    Alice   22  Female     85      Delhi\n",
      "1      Bob   25    Male     78     Mumbai\n",
      "2  Charlie   24    Male     92  Bangalore\n",
      "\n",
      "Last 2 rows in my dataset are: \n",
      "\n",
      "     Name  Age  Gender  Marks     City\n",
      "3  Diana   23  Female     88  Chennai\n",
      "4  Ethan   26    Male     74  Kolkata\n"
     ]
    }
   ],
   "source": [
    "# Pandas Tasks (using my dataset)\n",
    "\n",
    "import pandas as pd\n",
    "\n",
    "url = \"https://raw.githubusercontent.com/TrishankSaharia/python-data-science-basics/main/datasets/student_data.csv\"\n",
    "df = pd.read_csv(url) # Load CSV file\n",
    "print(df.head(),\"\\n\") # View top rows\n",
    "\n",
    "# Task 4: Showing first n rows and last m rows from my dataset\n",
    "\n",
    "n=int(input(\"Enter the number of rows from the top: \"))\n",
    "m=int(input(\"Enter the number of rows from the bottom: \"))\n",
    "\n",
    "print(f\"\\nFirst {n} rows in my dataset are: \\n\\n\",df.head(n))\n",
    "print(f\"\\nLast {m} rows in my dataset are: \\n\\n\",df.tail(m))\n",
    "\n",
    "\n"
   ]
  },
  {
   "cell_type": "code",
   "execution_count": 21,
   "id": "3a60e93e",
   "metadata": {},
   "outputs": [
    {
     "name": "stdout",
     "output_type": "stream",
     "text": [
      "Enter marks above which you want the dataset entries: 87\n",
      "\n",
      "       Name  Age  Gender  Marks       City\n",
      "2  Charlie   24    Male     92  Bangalore\n",
      "3    Diana   23  Female     88    Chennai\n"
     ]
    }
   ],
   "source": [
    "# Task 6: Filter rows where Marks > m\n",
    "\n",
    "m=int(input(\"Enter marks above which you want the dataset entries: \"))\n",
    "filtered_df = df[df['Marks']>m]\n",
    "print(\"\\n\",filtered_df)\n"
   ]
  },
  {
   "cell_type": "code",
   "execution_count": 23,
   "id": "28af14c3",
   "metadata": {},
   "outputs": [
    {
     "name": "stdout",
     "output_type": "stream",
     "text": [
      "Data sorted by Age       Name  Age  Gender  Marks       City\n",
      "0    Alice   22  Female     85      Delhi\n",
      "3    Diana   23  Female     88    Chennai\n",
      "2  Charlie   24    Male     92  Bangalore\n",
      "1      Bob   25    Male     78     Mumbai\n",
      "4    Ethan   26    Male     74    Kolkata\n",
      "\n",
      "Data sorted by Age       Name  Age  Gender  Marks       City\n",
      "4    Ethan   26    Male     74    Kolkata\n",
      "1      Bob   25    Male     78     Mumbai\n",
      "0    Alice   22  Female     85      Delhi\n",
      "3    Diana   23  Female     88    Chennai\n",
      "2  Charlie   24    Male     92  Bangalore\n"
     ]
    }
   ],
   "source": [
    "# Task 7: Sort by Age and Sort by marks\n",
    "\n",
    "sorted_df1 = df.sort_values(by='Age')\n",
    "print(\"Data sorted by Age\",sorted_df1)\n",
    "\n",
    "sorted_df2 = df.sort_values(by='Marks')\n",
    "print(\"\\nData sorted by Age\",sorted_df2)\n"
   ]
  },
  {
   "cell_type": "code",
   "execution_count": 24,
   "id": "8fbca6dd",
   "metadata": {},
   "outputs": [
    {
     "data": {
      "text/html": [
       "<div>\n",
       "<style scoped>\n",
       "    .dataframe tbody tr th:only-of-type {\n",
       "        vertical-align: middle;\n",
       "    }\n",
       "\n",
       "    .dataframe tbody tr th {\n",
       "        vertical-align: top;\n",
       "    }\n",
       "\n",
       "    .dataframe thead th {\n",
       "        text-align: right;\n",
       "    }\n",
       "</style>\n",
       "<table border=\"1\" class=\"dataframe\">\n",
       "  <thead>\n",
       "    <tr style=\"text-align: right;\">\n",
       "      <th></th>\n",
       "      <th>Name</th>\n",
       "      <th>Age</th>\n",
       "      <th>Gender</th>\n",
       "      <th>Marks</th>\n",
       "      <th>City</th>\n",
       "      <th>Grade</th>\n",
       "    </tr>\n",
       "  </thead>\n",
       "  <tbody>\n",
       "    <tr>\n",
       "      <th>0</th>\n",
       "      <td>Alice</td>\n",
       "      <td>22</td>\n",
       "      <td>Female</td>\n",
       "      <td>85</td>\n",
       "      <td>Delhi</td>\n",
       "      <td>A</td>\n",
       "    </tr>\n",
       "    <tr>\n",
       "      <th>1</th>\n",
       "      <td>Bob</td>\n",
       "      <td>25</td>\n",
       "      <td>Male</td>\n",
       "      <td>78</td>\n",
       "      <td>Mumbai</td>\n",
       "      <td>B</td>\n",
       "    </tr>\n",
       "    <tr>\n",
       "      <th>2</th>\n",
       "      <td>Charlie</td>\n",
       "      <td>24</td>\n",
       "      <td>Male</td>\n",
       "      <td>92</td>\n",
       "      <td>Bangalore</td>\n",
       "      <td>A+</td>\n",
       "    </tr>\n",
       "    <tr>\n",
       "      <th>3</th>\n",
       "      <td>Diana</td>\n",
       "      <td>23</td>\n",
       "      <td>Female</td>\n",
       "      <td>88</td>\n",
       "      <td>Chennai</td>\n",
       "      <td>A</td>\n",
       "    </tr>\n",
       "    <tr>\n",
       "      <th>4</th>\n",
       "      <td>Ethan</td>\n",
       "      <td>26</td>\n",
       "      <td>Male</td>\n",
       "      <td>74</td>\n",
       "      <td>Kolkata</td>\n",
       "      <td>B</td>\n",
       "    </tr>\n",
       "  </tbody>\n",
       "</table>\n",
       "</div>"
      ],
      "text/plain": [
       "      Name  Age  Gender  Marks       City Grade\n",
       "0    Alice   22  Female     85      Delhi     A\n",
       "1      Bob   25    Male     78     Mumbai     B\n",
       "2  Charlie   24    Male     92  Bangalore    A+\n",
       "3    Diana   23  Female     88    Chennai     A\n",
       "4    Ethan   26    Male     74    Kolkata     B"
      ]
     },
     "execution_count": 24,
     "metadata": {},
     "output_type": "execute_result"
    }
   ],
   "source": [
    "# Task 8: Add a new column “Grade” based on Marks\n",
    "\n",
    "def get_grade(marks):\n",
    "# This creates a Python function named get_grade that takes in a single number (marks).\n",
    "    if marks >= 90:\n",
    "        return 'A+'\n",
    "    elif marks >= 80:\n",
    "        return 'A'\n",
    "    elif marks >= 70:\n",
    "        return 'B'\n",
    "    else:\n",
    "        return 'C'\n",
    "\n",
    "# Apply This Function to Every Row in the 'Marks' Column\n",
    "\n",
    "df['Grade'] = df['Marks'].apply(get_grade)\n",
    "\n",
    "\n",
    "# df['Marks'] extracts the Marks column as a Series\n",
    "# .apply(get_grade) applies your custom get_grade function to each mark\n",
    "# The result is a new column Grade added to the dataframe\n",
    "\n",
    "df"
   ]
  },
  {
   "cell_type": "code",
   "execution_count": 25,
   "id": "d5890079",
   "metadata": {},
   "outputs": [
    {
     "name": "stdout",
     "output_type": "stream",
     "text": [
      "Saved to final_processed_student_data.csv\n"
     ]
    }
   ],
   "source": [
    "# Task 9: Export the updated dataframe to a new CSV\n",
    "\n",
    "df.to_csv(\"final_processed_student_data.csv\", index=False)\n",
    "print(\"Saved to final_processed_student_data.csv\")"
   ]
  },
  {
   "cell_type": "code",
   "execution_count": 28,
   "id": "16fcc74d",
   "metadata": {},
   "outputs": [
    {
     "name": "stdout",
     "output_type": "stream",
     "text": [
      "Index(['Name', 'Age', 'Gender', 'Marks', 'City', 'Grade'], dtype='object')\n",
      "Name      object\n",
      "Age        int64\n",
      "Gender    object\n",
      "Marks      int64\n",
      "City      object\n",
      "Grade     object\n",
      "dtype: object\n"
     ]
    }
   ],
   "source": [
    "# Task 10: Showing column names and data types\n",
    "\n",
    "print(df.columns)\n",
    "print(df.dtypes)"
   ]
  },
  {
   "cell_type": "code",
   "execution_count": null,
   "id": "af0970fc",
   "metadata": {},
   "outputs": [],
   "source": []
  }
 ],
 "metadata": {
  "kernelspec": {
   "display_name": "Python 3",
   "language": "python",
   "name": "python3"
  },
  "language_info": {
   "codemirror_mode": {
    "name": "ipython",
    "version": 3
   },
   "file_extension": ".py",
   "mimetype": "text/x-python",
   "name": "python",
   "nbconvert_exporter": "python",
   "pygments_lexer": "ipython3",
   "version": "3.8.8"
  }
 },
 "nbformat": 4,
 "nbformat_minor": 5
}
