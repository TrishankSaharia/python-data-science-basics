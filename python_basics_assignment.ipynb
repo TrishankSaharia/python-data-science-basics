{
 "cells": [
  {
   "cell_type": "code",
   "execution_count": 10,
   "id": "d506b506",
   "metadata": {},
   "outputs": [],
   "source": [
    "# Variables & Data Types\n",
    "# Python is dynamically typed — you don’t need to declare the data type.\n",
    "\n",
    "# Examples\n",
    "x = 10             # int\n",
    "name = \"Trishank\"  # str\n",
    "gpa = 7.49         # float\n",
    "is_placed = False  # bool\n",
    "\n"
   ]
  },
  {
   "cell_type": "code",
   "execution_count": 11,
   "id": "fa5a2b05",
   "metadata": {},
   "outputs": [
    {
     "name": "stdout",
     "output_type": "stream",
     "text": [
      "<class 'int'> <class 'str'> <class 'float'> <class 'bool'>\n",
      "10.0\n",
      "7\n",
      "False\n"
     ]
    }
   ],
   "source": [
    "# Type Checking & Casting\n",
    "\n",
    "print(type(x),type(name),type(gpa),type(is_placed))\n",
    "print(float(x))          # 10.0\n",
    "print(int(gpa))          # 7\n",
    "print(str(is_placed))    # 'False'\n"
   ]
  },
  {
   "cell_type": "code",
   "execution_count": 13,
   "id": "feef082a",
   "metadata": {},
   "outputs": [
    {
     "name": "stdout",
     "output_type": "stream",
     "text": [
      "Enter your name: Trishank Saharia\n",
      "Enter your age: 27\n",
      "Hello Trishank Saharia, you are 27 years old.\n"
     ]
    }
   ],
   "source": [
    "# Input and Output\n",
    "\n",
    "# Taking user input\n",
    "\n",
    "name = input(\"Enter your name: \")\n",
    "age = int(input(\"Enter your age: \"))\n",
    "print(f\"Hello {name}, you are {age} years old.\")\n"
   ]
  },
  {
   "cell_type": "code",
   "execution_count": 14,
   "id": "2283d183",
   "metadata": {},
   "outputs": [
    {
     "name": "stdout",
     "output_type": "stream",
     "text": [
      "You are an adult.\n"
     ]
    }
   ],
   "source": [
    "# Conditionals\n",
    "\n",
    "if age >= 18:\n",
    "    print(\"You are an adult.\")\n",
    "elif age<18:\n",
    "    print(\"You are a minor.\")\n",
    "else:\n",
    "    print(\"Invalid age\")\n"
   ]
  },
  {
   "cell_type": "code",
   "execution_count": 17,
   "id": "ae90ce81",
   "metadata": {},
   "outputs": [
    {
     "name": "stdout",
     "output_type": "stream",
     "text": [
      "0\n",
      "1\n",
      "2\n",
      "3\n",
      "4\n",
      "\n",
      "\n",
      "0\n",
      "1\n",
      "2\n",
      "3\n",
      "4\n"
     ]
    }
   ],
   "source": [
    "# Loops\n",
    "\n",
    "# For Loop\n",
    "\n",
    "for i in range(5):\n",
    "    print(i)\n",
    "\n",
    "print(\"\\n\")\n",
    "\n",
    "# While Loop\n",
    "\n",
    "count = 0\n",
    "while count < 5:\n",
    "    print(count)\n",
    "    count += 1\n"
   ]
  },
  {
   "cell_type": "code",
   "execution_count": 18,
   "id": "71f21bf9",
   "metadata": {},
   "outputs": [
    {
     "name": "stdout",
     "output_type": "stream",
     "text": [
      "8\n"
     ]
    }
   ],
   "source": [
    "# Functions\n",
    "\n",
    "def add(a, b):\n",
    "    return a + b\n",
    "\n",
    "print(add(5, 3))  # Output: 8\n"
   ]
  },
  {
   "cell_type": "code",
   "execution_count": 20,
   "id": "7836d425",
   "metadata": {},
   "outputs": [
    {
     "name": "stdout",
     "output_type": "stream",
     "text": [
      "Enter your name:Trishank Saharia\n",
      "Enter your age in years:27\n",
      "Hello Trishank Saharia, your Age is 27 years old\n"
     ]
    }
   ],
   "source": [
    "# Assignment 1\n",
    "\n",
    "name=input(\"Enter your name:\")\n",
    "age=int(input(\"Enter your age in years:\"))\n",
    "if(age>0):\n",
    "    print(f\"Hello {name}, your Age is {age} years old\")\n",
    "else:\n",
    "    print(f\"{age} is Invalid age\")"
   ]
  },
  {
   "cell_type": "code",
   "execution_count": 22,
   "id": "6c97a81a",
   "metadata": {},
   "outputs": [
    {
     "name": "stdout",
     "output_type": "stream",
     "text": [
      "Enter number to be checked if it is even or odd:62\n",
      "62 is even number\n"
     ]
    }
   ],
   "source": [
    "# Assignment 2\n",
    "\n",
    "n=int(input(\"Enter number to be checked if it is even or odd:\"))\n",
    "if(n%2==0):\n",
    "    print(f\"{n} is even number\")\n",
    "else:\n",
    "    print(f\"{n} is odd number\")"
   ]
  },
  {
   "cell_type": "code",
   "execution_count": 30,
   "id": "c89f9d0e",
   "metadata": {},
   "outputs": [
    {
     "name": "stdout",
     "output_type": "stream",
     "text": [
      "Enter number whose factorial is to be calculated: 6\n",
      "720\n"
     ]
    }
   ],
   "source": [
    "# Assignment 3\n",
    "\n",
    "n=int(input(\"Enter number whose factorial is to be calculated: \"))\n",
    "fact=1\n",
    "for i in range(1,n+1):\n",
    "    fact=fact*i\n",
    "print(fact)"
   ]
  },
  {
   "cell_type": "code",
   "execution_count": 46,
   "id": "4ae9c3f6",
   "metadata": {},
   "outputs": [
    {
     "name": "stdout",
     "output_type": "stream",
     "text": [
      "Enter number to be checked for Prime: 43\n",
      "43 is Prime\n"
     ]
    }
   ],
   "source": [
    "# Assignment 4\n",
    "\n",
    "n=int(input(\"Enter number to be checked for Prime: \"))\n",
    "flag=0\n",
    "if(n>=0):\n",
    "    for i in range(2,int(n/2)):\n",
    "        if(n%i==0):\n",
    "            print(f\"{n} is NOT prime\")\n",
    "            flag=1\n",
    "            break\n",
    "        else:\n",
    "            continue\n",
    "    if(flag==0):\n",
    "        print(f\"{n} is Prime\")"
   ]
  },
  {
   "cell_type": "code",
   "execution_count": 48,
   "id": "d2f0ee24",
   "metadata": {},
   "outputs": [
    {
     "name": "stdout",
     "output_type": "stream",
     "text": [
      "1\n",
      "4\n",
      "9\n",
      "16\n",
      "25\n",
      "36\n",
      "49\n",
      "64\n",
      "81\n",
      "100\n"
     ]
    }
   ],
   "source": [
    "for i in range(1,11):\n",
    "    print(i*i)"
   ]
  },
  {
   "cell_type": "code",
   "execution_count": null,
   "id": "69ba9f45",
   "metadata": {},
   "outputs": [],
   "source": []
  },
  {
   "cell_type": "code",
   "execution_count": null,
   "id": "0d274902",
   "metadata": {},
   "outputs": [],
   "source": []
  },
  {
   "cell_type": "code",
   "execution_count": null,
   "id": "b35121eb",
   "metadata": {},
   "outputs": [],
   "source": []
  }
 ],
 "metadata": {
  "kernelspec": {
   "display_name": "Python 3",
   "language": "python",
   "name": "python3"
  },
  "language_info": {
   "codemirror_mode": {
    "name": "ipython",
    "version": 3
   },
   "file_extension": ".py",
   "mimetype": "text/x-python",
   "name": "python",
   "nbconvert_exporter": "python",
   "pygments_lexer": "ipython3",
   "version": "3.8.8"
  }
 },
 "nbformat": 4,
 "nbformat_minor": 5
}
